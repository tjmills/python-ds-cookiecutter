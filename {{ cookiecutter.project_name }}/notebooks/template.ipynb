{
 "cells": [
  {
   "cell_type": "raw",
   "metadata": {},
   "source": [
    "---\n",
    "title: This is the knowledge post title\n",
    "authors:\n",
    "- Joe Mills\n",
    "tags:\n",
    "- sometagtohelpsearch\n",
    "created_at: 2020-11-02\n",
    "updated_at: 2020-11-02\n",
    "tldr: One-sentence description of what this notebook contains.\n",
    "path: ./the/path-to-store-this-in-knowledge-repo-folder\n",
    "---"
   ]
  },
  {
   "cell_type": "markdown",
   "metadata": {},
   "source": [
    "# INIT"
   ]
  },
  {
   "cell_type": "code",
   "execution_count": null,
   "metadata": {},
   "outputs": [],
   "source": [
    "import pandas as pd\n",
    "import numpy as np\n",
    "import pickle\n",
    "import seaborn as sns\n",
    "import matplotlib.pyplot as plt\n",
    "import os\n",
    "\n",
    "import snowflake.connector\n",
    "\n",
    "# Pandas settings\n",
    "pd.options.display.max_rows = 50\n",
    "pd.options.display.max_columns = 20\n",
    "\n",
    "# Set seaborn legend outside\n",
    "outside_legend = {\"bbox_to_anchor\":(1.05, 1), \"loc\":2, \"borderaxespad\":0.0}"
   ]
  },
  {
   "cell_type": "markdown",
   "metadata": {},
   "source": [
    "# Summary\n",
    "Executive-level summary. Equivilent of an abstract in scientific literature. Keep numbers to a minimum and highlight what you did, why you did, and what you found."
   ]
  },
  {
   "cell_type": "code",
   "execution_count": null,
   "metadata": {},
   "outputs": [],
   "source": []
  },
  {
   "cell_type": "markdown",
   "metadata": {},
   "source": [
    "# Intro"
   ]
  },
  {
   "cell_type": "markdown",
   "metadata": {},
   "source": [
    "## Significance\n",
    "Why do we care about this?"
   ]
  },
  {
   "cell_type": "markdown",
   "metadata": {},
   "source": [
    "## Background"
   ]
  },
  {
   "cell_type": "markdown",
   "metadata": {},
   "source": [
    "What background do we need to know to understand this?"
   ]
  },
  {
   "cell_type": "code",
   "execution_count": null,
   "metadata": {},
   "outputs": [],
   "source": [
    "What background do we need to know to understand this"
   ]
  },
  {
   "cell_type": "markdown",
   "metadata": {},
   "source": [
    "# Methods\n",
    "Text describing the approach taken. Optionally code cells for notebook-specfic functions used later"
   ]
  },
  {
   "cell_type": "code",
   "execution_count": null,
   "metadata": {},
   "outputs": [],
   "source": []
  },
  {
   "cell_type": "markdown",
   "metadata": {},
   "source": [
    "# Results\n",
    "The bulk of the code and analysis. This section should have multiple sub-sections with short summaries of each section. These short summaries can be combined and simplified to form the top-level summary above."
   ]
  },
  {
   "cell_type": "code",
   "execution_count": null,
   "metadata": {},
   "outputs": [],
   "source": []
  }
 ],
 "metadata": {
  "kernelspec": {
   "display_name": "Python 3",
   "language": "python",
   "name": "python3"
  },
  "language_info": {
   "codemirror_mode": {
    "name": "ipython",
    "version": 3
   },
   "file_extension": ".py",
   "mimetype": "text/x-python",
   "name": "python",
   "nbconvert_exporter": "python",
   "pygments_lexer": "ipython3",
   "version": "3.9.2"
  }
 },
 "nbformat": 4,
 "nbformat_minor": 4
}
